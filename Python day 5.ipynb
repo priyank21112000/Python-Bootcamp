{
 "cells": [
  {
   "cell_type": "code",
   "execution_count": null,
   "metadata": {},
   "outputs": [],
   "source": [
    "#Modules are predefined piece of code\n",
    "#package is collection of modules,programs"
   ]
  },
  {
   "cell_type": "code",
   "execution_count": 1,
   "metadata": {},
   "outputs": [
    {
     "name": "stdout",
     "output_type": "stream",
     "text": [
      "Requirement already satisfied: excel-to-json in c:\\users\\admin\\anaconda directories\\lib\\site-packages (1.11)\n",
      "Requirement already satisfied: openpyxl in c:\\users\\admin\\anaconda directories\\lib\\site-packages (from excel-to-json) (3.0.3)\n",
      "Requirement already satisfied: et-xmlfile in c:\\users\\admin\\anaconda directories\\lib\\site-packages (from openpyxl->excel-to-json) (1.0.1)\n",
      "Requirement already satisfied: jdcal in c:\\users\\admin\\anaconda directories\\lib\\site-packages (from openpyxl->excel-to-json) (1.4.1)\n"
     ]
    }
   ],
   "source": [
    "! pip install excel-to-json"
   ]
  },
  {
   "cell_type": "code",
   "execution_count": null,
   "metadata": {},
   "outputs": [],
   "source": [
    "#writing a module"
   ]
  },
  {
   "cell_type": "code",
   "execution_count": 8,
   "metadata": {},
   "outputs": [
    {
     "name": "stdout",
     "output_type": "stream",
     "text": [
      "Overwriting file1.py\n"
     ]
    }
   ],
   "source": [
    "%%writefile file1.py\n",
    "def fun(x):\n",
    "    return [num for num in range(x) if num%2==0]\n",
    "list1 = myfun(15)\n",
    "print(list1)"
   ]
  },
  {
   "cell_type": "code",
   "execution_count": 9,
   "metadata": {},
   "outputs": [
    {
     "name": "stdout",
     "output_type": "stream",
     "text": [
      "[0, 2, 4, 6, 8, 10, 12, 14]\n"
     ]
    }
   ],
   "source": [
    "! python file1.py"
   ]
  },
  {
   "cell_type": "code",
   "execution_count": 4,
   "metadata": {},
   "outputs": [
    {
     "name": "stdout",
     "output_type": "stream",
     "text": [
      "Writing file2.py\n"
     ]
    }
   ],
   "source": [
    "%%writefile file2.py\n",
    "import file1\n",
    "file1.list1.append(98)\n",
    "print(file1.list1)\n",
    "file1.myfun(56)\n",
    "print(file1.list1)"
   ]
  },
  {
   "cell_type": "code",
   "execution_count": 10,
   "metadata": {},
   "outputs": [
    {
     "name": "stdout",
     "output_type": "stream",
     "text": [
      "[0, 2, 4, 6, 8, 10, 12, 14]\n",
      "[0, 2, 4, 6, 8, 10, 12, 14, 98]\n",
      "[0, 2, 4, 6, 8, 10, 12, 14, 98]\n"
     ]
    }
   ],
   "source": [
    "! python file2.py"
   ]
  },
  {
   "cell_type": "code",
   "execution_count": 12,
   "metadata": {},
   "outputs": [
    {
     "name": "stdout",
     "output_type": "stream",
     "text": [
      "[0, 2, 4, 6, 8, 10, 12, 14, 180]\n"
     ]
    }
   ],
   "source": [
    "import file1\n",
    "\n",
    "file1.list1.append(180)\n",
    "print(file1.list1)"
   ]
  },
  {
   "cell_type": "code",
   "execution_count": 13,
   "metadata": {},
   "outputs": [
    {
     "name": "stdout",
     "output_type": "stream",
     "text": [
      "['__doc__', '__loader__', '__name__', '__package__', '__spec__', 'acos', 'acosh', 'asin', 'asinh', 'atan', 'atan2', 'atanh', 'ceil', 'copysign', 'cos', 'cosh', 'degrees', 'e', 'erf', 'erfc', 'exp', 'expm1', 'fabs', 'factorial', 'floor', 'fmod', 'frexp', 'fsum', 'gamma', 'gcd', 'hypot', 'inf', 'isclose', 'isfinite', 'isinf', 'isnan', 'ldexp', 'lgamma', 'log', 'log10', 'log1p', 'log2', 'modf', 'nan', 'pi', 'pow', 'radians', 'remainder', 'sin', 'sinh', 'sqrt', 'tan', 'tanh', 'tau', 'trunc']\n"
     ]
    }
   ],
   "source": [
    "import math\n",
    "print(dir(math))"
   ]
  },
  {
   "cell_type": "code",
   "execution_count": 14,
   "metadata": {},
   "outputs": [
    {
     "name": "stdout",
     "output_type": "stream",
     "text": [
      "['__builtins__', '__cached__', '__doc__', '__file__', '__loader__', '__name__', '__package__', '__spec__', 'list1', 'myfun']\n"
     ]
    }
   ],
   "source": [
    "import math\n",
    "print(dir(file1))"
   ]
  },
  {
   "cell_type": "code",
   "execution_count": 15,
   "metadata": {},
   "outputs": [
    {
     "name": "stdout",
     "output_type": "stream",
     "text": [
      "0.8509035245341184\n",
      "['__call__', '__class__', '__delattr__', '__dir__', '__doc__', '__eq__', '__format__', '__ge__', '__getattribute__', '__gt__', '__hash__', '__init__', '__init_subclass__', '__le__', '__lt__', '__module__', '__name__', '__ne__', '__new__', '__qualname__', '__reduce__', '__reduce_ex__', '__repr__', '__self__', '__setattr__', '__sizeof__', '__str__', '__subclasshook__', '__text_signature__']\n"
     ]
    }
   ],
   "source": [
    "import math\n",
    "\n",
    "print(math.sin(45))\n",
    "print(dir(math.sin))"
   ]
  },
  {
   "cell_type": "code",
   "execution_count": 16,
   "metadata": {},
   "outputs": [
    {
     "name": "stdout",
     "output_type": "stream",
     "text": [
      "Writing ab1.py\n"
     ]
    }
   ],
   "source": [
    "%%writefile ab1.py\n",
    "\n",
    "def hello():\n",
    "    print('I am directly getting executed')\n",
    "def greet():\n",
    "    print('I am here indirectly getting executed')\n",
    "    \n",
    "if(__name__ == '__main__'):\n",
    "    hello()\n",
    "else:\n",
    "    greet()"
   ]
  },
  {
   "cell_type": "code",
   "execution_count": 17,
   "metadata": {},
   "outputs": [
    {
     "name": "stdout",
     "output_type": "stream",
     "text": [
      "I am directly getting executed\n"
     ]
    }
   ],
   "source": [
    "! python ab1.py"
   ]
  },
  {
   "cell_type": "code",
   "execution_count": 18,
   "metadata": {},
   "outputs": [
    {
     "name": "stdout",
     "output_type": "stream",
     "text": [
      "Writing ab2.py\n"
     ]
    }
   ],
   "source": [
    "%%writefile ab2.py\n",
    "\n",
    "import ab1\n",
    "print('we are in ab2')"
   ]
  },
  {
   "cell_type": "code",
   "execution_count": 19,
   "metadata": {},
   "outputs": [
    {
     "name": "stdout",
     "output_type": "stream",
     "text": [
      "I am here indirectly getting executed\n",
      "we are in ab2\n"
     ]
    }
   ],
   "source": [
    "!python ab2.py"
   ]
  },
  {
   "cell_type": "code",
   "execution_count": null,
   "metadata": {},
   "outputs": [],
   "source": [
    "#Decorators"
   ]
  },
  {
   "cell_type": "code",
   "execution_count": null,
   "metadata": {},
   "outputs": [],
   "source": [
    "#How to get all the local variable and global variable"
   ]
  },
  {
   "cell_type": "code",
   "execution_count": 26,
   "metadata": {},
   "outputs": [],
   "source": [
    "s = 'GLOBAL vARIABLE'\n",
    "\n",
    "def check_for_locals():\n",
    "    name = 'Priyank'\n",
    "    print(locals())\n",
    "    print(globals())"
   ]
  },
  {
   "cell_type": "code",
   "execution_count": 27,
   "metadata": {},
   "outputs": [
    {
     "name": "stdout",
     "output_type": "stream",
     "text": [
      "{'name': 'Priyank'}\n",
      "{'__name__': '__main__', '__doc__': 'Automatically created module for IPython interactive environment', '__package__': None, '__loader__': None, '__spec__': None, '__builtin__': <module 'builtins' (built-in)>, '__builtins__': <module 'builtins' (built-in)>, '_ih': ['', \"get_ipython().system(' pip install excel-to-json')\", \"#Writing a module\\n\\nget_ipython().run_line_magic('%writefile', 'file1.py')\\ndef myfun(x):\\n    return [num for num in range(x) if num%2==0]\\nlist1 = myfun(15)\", \"get_ipython().run_cell_magic('writefile', 'file1.py', 'def myfun(x):\\\\n    return [num for num in range(x) if num%2==0]\\\\nlist1 = myfun(15)\\\\n')\", \"get_ipython().run_cell_magic('writefile', 'file2.py', 'import file1\\\\nfile1.list1.append(98)\\\\nprint(file1.list1)\\\\nfile1.myfun(56)\\\\nprint(file1.list1)\\\\n')\", 'python file1.py', 'file1.py', \"get_ipython().system(' python file1.py')\", \"get_ipython().run_cell_magic('writefile', 'file1.py', 'def myfun(x):\\\\n    return [num for num in range(x) if num%2==0]\\\\nlist1 = myfun(15)\\\\nprint(list1)\\\\n')\", \"get_ipython().system(' python file1.py')\", \"get_ipython().system(' python file2.py')\", 'import file1', 'import file1\\n\\nfile1.list1.append(180)\\nprint(file1.list1)', 'import math\\nprint(dir(math))', 'import math\\nprint(dir(file1))', 'import math\\n\\nprint(math.sin(45))\\nprint(dir(math.sin))', 'get_ipython().run_cell_magic(\\'writefile\\', \\'ab1.py\\', \"\\\\ndef hello():\\\\n    print(\\'I am directly getting executed\\')\\\\ndef greet():\\\\n    print(\\'I am here indirectly getting executed\\')\\\\n    \\\\nif(__name__ == \\'__main__\\'):\\\\n    hello()\\\\nelse:\\\\n    greet()\\\\n\")', \"get_ipython().system(' python ab1.py')\", 'get_ipython().run_cell_magic(\\'writefile\\', \\'ab2.py\\', \"\\\\nimport ab1\\\\nprint(\\'we are in ab2\\')\\\\n\")', \"get_ipython().system('python ab2.py')\", \"def hello(name='LetsUpgrade'):\\n    print('Hi',name)\\n    \", 'hello()', \"s = 'global variable'\\n\\ndef check_for_locals():\\n    name = 'Priyank'\\n    print(locals())\\n    print(globals())\", 'check_for_locals()', \"s = 'global variable'\\n\\ndef check_for_locals():\\n    name = 'Priyank'\\n    print(locals())\\n    print(globals()[s])\", 'check_for_locals()', \"s = 'GLOBAL vARIABLE'\\n\\ndef check_for_locals():\\n    name = 'Priyank'\\n    print(locals())\\n    print(globals())\", 'check_for_locals()'], '_oh': {}, '_dh': ['C:\\\\Users\\\\admin'], 'In': ['', \"get_ipython().system(' pip install excel-to-json')\", \"#Writing a module\\n\\nget_ipython().run_line_magic('%writefile', 'file1.py')\\ndef myfun(x):\\n    return [num for num in range(x) if num%2==0]\\nlist1 = myfun(15)\", \"get_ipython().run_cell_magic('writefile', 'file1.py', 'def myfun(x):\\\\n    return [num for num in range(x) if num%2==0]\\\\nlist1 = myfun(15)\\\\n')\", \"get_ipython().run_cell_magic('writefile', 'file2.py', 'import file1\\\\nfile1.list1.append(98)\\\\nprint(file1.list1)\\\\nfile1.myfun(56)\\\\nprint(file1.list1)\\\\n')\", 'python file1.py', 'file1.py', \"get_ipython().system(' python file1.py')\", \"get_ipython().run_cell_magic('writefile', 'file1.py', 'def myfun(x):\\\\n    return [num for num in range(x) if num%2==0]\\\\nlist1 = myfun(15)\\\\nprint(list1)\\\\n')\", \"get_ipython().system(' python file1.py')\", \"get_ipython().system(' python file2.py')\", 'import file1', 'import file1\\n\\nfile1.list1.append(180)\\nprint(file1.list1)', 'import math\\nprint(dir(math))', 'import math\\nprint(dir(file1))', 'import math\\n\\nprint(math.sin(45))\\nprint(dir(math.sin))', 'get_ipython().run_cell_magic(\\'writefile\\', \\'ab1.py\\', \"\\\\ndef hello():\\\\n    print(\\'I am directly getting executed\\')\\\\ndef greet():\\\\n    print(\\'I am here indirectly getting executed\\')\\\\n    \\\\nif(__name__ == \\'__main__\\'):\\\\n    hello()\\\\nelse:\\\\n    greet()\\\\n\")', \"get_ipython().system(' python ab1.py')\", 'get_ipython().run_cell_magic(\\'writefile\\', \\'ab2.py\\', \"\\\\nimport ab1\\\\nprint(\\'we are in ab2\\')\\\\n\")', \"get_ipython().system('python ab2.py')\", \"def hello(name='LetsUpgrade'):\\n    print('Hi',name)\\n    \", 'hello()', \"s = 'global variable'\\n\\ndef check_for_locals():\\n    name = 'Priyank'\\n    print(locals())\\n    print(globals())\", 'check_for_locals()', \"s = 'global variable'\\n\\ndef check_for_locals():\\n    name = 'Priyank'\\n    print(locals())\\n    print(globals()[s])\", 'check_for_locals()', \"s = 'GLOBAL vARIABLE'\\n\\ndef check_for_locals():\\n    name = 'Priyank'\\n    print(locals())\\n    print(globals())\", 'check_for_locals()'], 'Out': {}, 'get_ipython': <bound method InteractiveShell.get_ipython of <ipykernel.zmqshell.ZMQInteractiveShell object at 0x000001E170711108>>, 'exit': <IPython.core.autocall.ZMQExitAutocall object at 0x000001E1706ADC48>, 'quit': <IPython.core.autocall.ZMQExitAutocall object at 0x000001E1706ADC48>, '_': '', '__': '', '___': '', '_i': \"s = 'GLOBAL vARIABLE'\\n\\ndef check_for_locals():\\n    name = 'Priyank'\\n    print(locals())\\n    print(globals())\", '_ii': 'check_for_locals()', '_iii': \"s = 'global variable'\\n\\ndef check_for_locals():\\n    name = 'Priyank'\\n    print(locals())\\n    print(globals()[s])\", '_i1': '! pip install excel-to-json', '_exit_code': 0, '_i2': '#Writing a module\\n\\n%%writefile file1.py\\ndef myfun(x):\\n    return [num for num in range(x) if num%2==0]\\nlist1 = myfun(15)', '_i3': '\\n\\n%%writefile file1.py\\ndef myfun(x):\\n    return [num for num in range(x) if num%2==0]\\nlist1 = myfun(15)', '_i4': '%%writefile file2.py\\nimport file1\\nfile1.list1.append(98)\\nprint(file1.list1)\\nfile1.myfun(56)\\nprint(file1.list1)', '_i5': 'python file1.py', '_i6': 'file1.py', '_i7': '! python file1.py', '_i8': '%%writefile file1.py\\ndef myfun(x):\\n    return [num for num in range(x) if num%2==0]\\nlist1 = myfun(15)\\nprint(list1)', '_i9': '! python file1.py', '_i10': '! python file2.py', '_i11': 'import file1', 'file1': <module 'file1' from 'C:\\\\Users\\\\admin\\\\file1.py'>, '_i12': 'import file1\\n\\nfile1.list1.append(180)\\nprint(file1.list1)', '_i13': 'import math\\nprint(dir(math))', 'math': <module 'math' (built-in)>, '_i14': 'import math\\nprint(dir(file1))', '_i15': 'import math\\n\\nprint(math.sin(45))\\nprint(dir(math.sin))', '_i16': \"%%writefile ab1.py\\n\\ndef hello():\\n    print('I am directly getting executed')\\ndef greet():\\n    print('I am here indirectly getting executed')\\n    \\nif(__name__ == '__main__'):\\n    hello()\\nelse:\\n    greet()\", '_i17': '! python ab1.py', '_i18': \"%%writefile ab2.py\\n\\nimport ab1\\nprint('we are in ab2')\", '_i19': '!python ab2.py', '_i20': \"def hello(name='LetsUpgrade'):\\n    print('Hi',name)\\n    \", 'hello': <function hello at 0x000001E17083B708>, '_i21': 'hello()', '_i22': \"s = 'global variable'\\n\\ndef check_for_locals():\\n    name = 'Priyank'\\n    print(locals())\\n    print(globals())\", 's': 'GLOBAL vARIABLE', 'check_for_locals': <function check_for_locals at 0x000001E17083B288>, '_i23': 'check_for_locals()', '_i24': \"s = 'global variable'\\n\\ndef check_for_locals():\\n    name = 'Priyank'\\n    print(locals())\\n    print(globals()[s])\", '_i25': 'check_for_locals()', '_i26': \"s = 'GLOBAL vARIABLE'\\n\\ndef check_for_locals():\\n    name = 'Priyank'\\n    print(locals())\\n    print(globals())\", '_i27': 'check_for_locals()'}\n"
     ]
    }
   ],
   "source": [
    "check_for_locals()"
   ]
  },
  {
   "cell_type": "code",
   "execution_count": 30,
   "metadata": {},
   "outputs": [],
   "source": [
    "s = 'GLOBAL vARIABLE'\n",
    "\n",
    "def check_for_locals():\n",
    "    name = 'Priyank'\n",
    "    print(locals())\n",
    "    print(globals()['s'])"
   ]
  },
  {
   "cell_type": "code",
   "execution_count": 31,
   "metadata": {},
   "outputs": [
    {
     "name": "stdout",
     "output_type": "stream",
     "text": [
      "{'name': 'Priyank'}\n",
      "GLOBAL vARIABLE\n"
     ]
    }
   ],
   "source": [
    "check_for_locals()"
   ]
  },
  {
   "cell_type": "code",
   "execution_count": 32,
   "metadata": {},
   "outputs": [],
   "source": [
    "def hello(name='LetsUpgrade'):\n",
    "    print('Hi',name)"
   ]
  },
  {
   "cell_type": "code",
   "execution_count": 33,
   "metadata": {},
   "outputs": [
    {
     "name": "stdout",
     "output_type": "stream",
     "text": [
      "Hi Priyank\n"
     ]
    }
   ],
   "source": [
    "hello('Priyank')"
   ]
  },
  {
   "cell_type": "code",
   "execution_count": null,
   "metadata": {},
   "outputs": [],
   "source": [
    "#assigning a function to another variable just like how we do variable assignment"
   ]
  },
  {
   "cell_type": "code",
   "execution_count": 34,
   "metadata": {},
   "outputs": [],
   "source": [
    "hi = hello"
   ]
  },
  {
   "cell_type": "code",
   "execution_count": 35,
   "metadata": {},
   "outputs": [
    {
     "data": {
      "text/plain": [
       "<function __main__.hello(name='LetsUpgrade')>"
      ]
     },
     "execution_count": 35,
     "metadata": {},
     "output_type": "execute_result"
    }
   ],
   "source": [
    "hi"
   ]
  },
  {
   "cell_type": "code",
   "execution_count": 36,
   "metadata": {},
   "outputs": [
    {
     "data": {
      "text/plain": [
       "<function __main__.hello(name='LetsUpgrade')>"
      ]
     },
     "execution_count": 36,
     "metadata": {},
     "output_type": "execute_result"
    }
   ],
   "source": [
    "hello\n"
   ]
  },
  {
   "cell_type": "code",
   "execution_count": 37,
   "metadata": {},
   "outputs": [],
   "source": [
    "#function within a function"
   ]
  },
  {
   "cell_type": "code",
   "execution_count": 38,
   "metadata": {},
   "outputs": [],
   "source": [
    "def hola():\n",
    "    print('we are inside hola function')\n",
    "    \n",
    "    def Priyank():\n",
    "        print('I am Priyank')\n",
    "    Priyank()\n",
    "                          "
   ]
  },
  {
   "cell_type": "code",
   "execution_count": 39,
   "metadata": {},
   "outputs": [
    {
     "name": "stdout",
     "output_type": "stream",
     "text": [
      "we are inside hola function\n",
      "I am Priyank\n"
     ]
    }
   ],
   "source": [
    "hola()"
   ]
  },
  {
   "cell_type": "code",
   "execution_count": 40,
   "metadata": {},
   "outputs": [],
   "source": [
    "#Passing function as arguement"
   ]
  },
  {
   "cell_type": "code",
   "execution_count": 41,
   "metadata": {},
   "outputs": [],
   "source": [
    "def hello():\n",
    "    print('Hey this is hello')\n",
    "    \n",
    "def anotherHello(arg):\n",
    "    print('We are inside hello')\n",
    "    arg()"
   ]
  },
  {
   "cell_type": "code",
   "execution_count": 42,
   "metadata": {},
   "outputs": [
    {
     "name": "stdout",
     "output_type": "stream",
     "text": [
      "We are inside hello\n",
      "Hey this is hello\n"
     ]
    }
   ],
   "source": [
    "anotherHello(hello)"
   ]
  },
  {
   "cell_type": "code",
   "execution_count": 43,
   "metadata": {},
   "outputs": [],
   "source": [
    "#Decorator\n",
    "#which adds some extra functionality to your code\n",
    "\n",
    "def some_function():\n",
    "    \n",
    "    def wrap_fun():\n",
    "        print('I am the code which is at the top of your function')\n",
    "        function_as_arg()\n",
    "        print('i am the code which is at the bottom of your function')\n",
    "    return wrap_fun"
   ]
  },
  {
   "cell_type": "code",
   "execution_count": 44,
   "metadata": {},
   "outputs": [],
   "source": [
    "def function_which_requires_code_adds():\n",
    "    print('Hey I am a function')\n",
    "    print('I want some other code to be added')"
   ]
  },
  {
   "cell_type": "code",
   "execution_count": 45,
   "metadata": {},
   "outputs": [
    {
     "name": "stdout",
     "output_type": "stream",
     "text": [
      "Hey I am a function\n",
      "I want some other code to be added\n"
     ]
    }
   ],
   "source": [
    "function_which_requires_code_adds()"
   ]
  },
  {
   "cell_type": "code",
   "execution_count": null,
   "metadata": {},
   "outputs": [],
   "source": []
  },
  {
   "cell_type": "code",
   "execution_count": null,
   "metadata": {},
   "outputs": [],
   "source": []
  },
  {
   "cell_type": "code",
   "execution_count": null,
   "metadata": {},
   "outputs": [],
   "source": []
  },
  {
   "cell_type": "code",
   "execution_count": null,
   "metadata": {},
   "outputs": [],
   "source": []
  },
  {
   "cell_type": "code",
   "execution_count": null,
   "metadata": {},
   "outputs": [],
   "source": []
  }
 ],
 "metadata": {
  "kernelspec": {
   "display_name": "Python 3",
   "language": "python",
   "name": "python3"
  },
  "language_info": {
   "codemirror_mode": {
    "name": "ipython",
    "version": 3
   },
   "file_extension": ".py",
   "mimetype": "text/x-python",
   "name": "python",
   "nbconvert_exporter": "python",
   "pygments_lexer": "ipython3",
   "version": "3.7.5"
  }
 },
 "nbformat": 4,
 "nbformat_minor": 4
}
